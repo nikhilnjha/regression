{
  "nbformat": 4,
  "nbformat_minor": 0,
  "metadata": {
    "colab": {
      "provenance": []
    },
    "kernelspec": {
      "name": "python3",
      "display_name": "Python 3"
    },
    "language_info": {
      "name": "python"
    }
  },
  "cells": [
    {
      "cell_type": "markdown",
      "source": [
        "# Assignment"
      ],
      "metadata": {
        "id": "QXepw4CTSkLR"
      }
    },
    {
      "cell_type": "code",
      "execution_count": 2,
      "metadata": {
        "colab": {
          "base_uri": "https://localhost:8080/",
          "height": 626
        },
        "id": "lqqcdAGvRgCP",
        "outputId": "1ea9b479-4d16-4931-e5c4-65d8e1ca9a76"
      },
      "outputs": [
        {
          "output_type": "stream",
          "name": "stdout",
          "text": [
            "Slope m = 0.6000000000000001\n",
            "R^2 = 0.6000000000000001\n",
            "   color_blue  color_green  color_red\n",
            "0       False        False       True\n",
            "1        True        False      False\n",
            "2       False         True      False\n"
          ]
        },
        {
          "output_type": "display_data",
          "data": {
            "text/plain": [
              "<Figure size 640x480 with 1 Axes>"
            ],
            "image/png": "[encoded data removed]"
          },
          "metadata": {}
        },
        {
          "output_type": "stream",
          "name": "stdout",
          "text": [
            "[[-1.22474487 -1.22474487]\n",
            " [ 0.          0.        ]\n",
            " [ 1.22474487  1.22474487]]\n",
            "Predicted value for X=5: 35.999999999999986\n"
          ]
        }
      ],
      "source": [
        "# Regression Assignment – Java + DSAPwskills (Python Answers)\n",
        "\n",
        "# 1. What is Simple Linear Regression\n",
        "# Simple Linear Regression models the relationship between a dependent variable Y and one independent variable X using a straight line: Y = mX + c\n",
        "\n",
        "# 2. What are the key assumptions of Simple Linear Regression\n",
        "# - Linearity\n",
        "# - Independence of errors\n",
        "# - Homoscedasticity (equal variance of residuals)\n",
        "# - Normal distribution of errors\n",
        "# - No multicollinearity (if extended)\n",
        "\n",
        "# 3. What does the coefficient m represent in the equation Y=mX+c\n",
        "# m represents the slope — the rate of change in Y with respect to X.\n",
        "\n",
        "# 4. What does the intercept c represent in the equation Y=mX+c\n",
        "# c represents the value of Y when X = 0.\n",
        "\n",
        "# 5. How do we calculate the slope m in Simple Linear Regression\n",
        "# Using formula: m = cov(X, Y) / var(X)\n",
        "\n",
        "import numpy as np\n",
        "x = np.array([1, 2, 3, 4, 5])\n",
        "y = np.array([2, 4, 5, 4, 5])\n",
        "m = np.cov(x, y, bias=True)[0, 1] / np.var(x)\n",
        "print(\"Slope m =\", m)\n",
        "\n",
        "# 6. What is the purpose of the least squares method in Simple Linear Regression\n",
        "# To minimize the sum of squared errors between predicted and actual Y values.\n",
        "\n",
        "# 7. How is the coefficient of determination (R²) interpreted in Simple Linear Regression\n",
        "# R² explains the proportion of variance in Y explained by X.\n",
        "\n",
        "from sklearn.linear_model import LinearRegression\n",
        "from sklearn.metrics import r2_score\n",
        "x_reshaped = x.reshape(-1, 1)\n",
        "model = LinearRegression().fit(x_reshaped, y)\n",
        "y_pred = model.predict(x_reshaped)\n",
        "print(\"R^2 =\", r2_score(y, y_pred))\n",
        "\n",
        "# 8. What is Multiple Linear Regression\n",
        "# A regression model with more than one independent variable.\n",
        "\n",
        "# 9. What is the main difference between Simple and Multiple Linear Regression\n",
        "# Simple uses one independent variable, multiple uses two or more.\n",
        "\n",
        "# 10. What are the key assumptions of Multiple Linear Regression\n",
        "# Same as simple regression + no multicollinearity among independent variables.\n",
        "\n",
        "# 11. What is heteroscedasticity, and how does it affect the results of a Multiple Linear Regression model\n",
        "# Non-constant variance in residuals. It reduces the reliability of coefficient estimates.\n",
        "\n",
        "# 12. How can you improve a Multiple Linear Regression model with high multicollinearity\n",
        "# - Remove correlated variables\n",
        "# - Use PCA or Regularization (Ridge/Lasso)\n",
        "\n",
        "# 13. What are some common techniques for transforming categorical variables for use in regression models\n",
        "# - One-hot encoding\n",
        "# - Label encoding\n",
        "# - Ordinal encoding\n",
        "\n",
        "import pandas as pd\n",
        "df = pd.DataFrame({'color': ['red', 'blue', 'green']})\n",
        "print(pd.get_dummies(df))\n",
        "\n",
        "# 14. What is the role of interaction terms in Multiple Linear Regression\n",
        "# To capture combined effects of two or more variables on the outcome.\n",
        "\n",
        "# 15. How can the interpretation of intercept differ between Simple and Multiple Linear Regression\n",
        "# In multiple, it means value of Y when all Xs are zero, which may not be meaningful.\n",
        "\n",
        "# 16. What is the significance of the slope in regression analysis, and how does it affect predictions\n",
        "# Slope shows effect of predictor on response. Higher absolute value = stronger impact.\n",
        "\n",
        "# 17. How does the intercept in a regression model provide context for the relationship between variables\n",
        "# It gives the baseline value of Y when all predictors are zero.\n",
        "\n",
        "# 18. What are the limitations of using R² as a sole measure of model performance\n",
        "# Does not account for overfitting, doesn’t reflect predictive power on new data.\n",
        "\n",
        "# 19. How would you interpret a large standard error for a regression coefficient\n",
        "# High standard error = low confidence in coefficient estimate.\n",
        "\n",
        "# 20. How can heteroscedasticity be identified in residual plots, and why is it important to address it\n",
        "# By funnel-shaped residual plot. Important because it affects hypothesis testing.\n",
        "\n",
        "import matplotlib.pyplot as plt\n",
        "residuals = y - y_pred\n",
        "plt.scatter(y_pred, residuals)\n",
        "plt.axhline(0, color='red')\n",
        "plt.title(\"Residuals vs. Predicted\")\n",
        "plt.show()\n",
        "\n",
        "# 21. What does it mean if a Multiple Linear Regression model has a high R² but low adjusted R²\n",
        "# Model includes unnecessary predictors that do not improve performance.\n",
        "\n",
        "# 22. Why is it important to scale variables in Multiple Linear Regression\n",
        "# To ensure equal contribution and help model converge (especially in regularized models).\n",
        "\n",
        "from sklearn.preprocessing import StandardScaler\n",
        "X = np.array([[1, 100], [2, 200], [3, 300]])\n",
        "print(StandardScaler().fit_transform(X))\n",
        "\n",
        "# 23. What is polynomial regression\n",
        "# A regression model where the relationship is modeled as an nth-degree polynomial.\n",
        "\n",
        "# 24. How does polynomial regression differ from linear regression\n",
        "# It fits curves instead of straight lines to data.\n",
        "\n",
        "# 25. When is polynomial regression used\n",
        "# When data has a non-linear trend.\n",
        "\n",
        "# 26. What is the general equation for polynomial regression\n",
        "# Y = β0 + β1X + β2X^2 + ... + βnX^n\n",
        "\n",
        "# 27. Can polynomial regression be applied to multiple variables\n",
        "# Yes, it's called multivariate polynomial regression.\n",
        "\n",
        "# 28. What are the limitations of polynomial regression\n",
        "# Overfitting, complexity, hard to interpret.\n",
        "\n",
        "# 29. What methods can be used to evaluate model fit when selecting the degree of a polynomial\n",
        "# - R² / Adjusted R²\n",
        "# - Cross-validation\n",
        "# - Residual analysis\n",
        "\n",
        "# 30. Why is visualization important in polynomial regression\n",
        "# To inspect fit and identify overfitting or underfitting.\n",
        "\n",
        "# 31. How is polynomial regression implemented in Python?\n",
        "\n",
        "from sklearn.preprocessing import PolynomialFeatures\n",
        "from sklearn.pipeline import make_pipeline\n",
        "X_poly = np.array([[1], [2], [3], [4]])\n",
        "y_poly = np.array([3, 9, 15, 25])\n",
        "poly_model = make_pipeline(PolynomialFeatures(2), LinearRegression())\n",
        "poly_model.fit(X_poly, y_poly)\n",
        "print(\"Predicted value for X=5:\", poly_model.predict([[5]])[0])\n"
      ]
    },
    {
      "cell_type": "code",
      "source": [],
      "metadata": {
        "id": "2GqIy0EaSqXi"
      },
      "execution_count": null,
      "outputs": []
    }
  ]
}